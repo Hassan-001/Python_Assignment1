{
 "cells": [
  {
   "cell_type": "code",
   "execution_count": 4,
   "metadata": {},
   "outputs": [
    {
     "name": "stdout",
     "output_type": "stream",
     "text": [
      "Enter Marks of Maths: 89\n",
      "Enter Marks of Computer: 98\n",
      "Enter Marks of Physics: 98\n",
      "Enter Marks of Chemistry: 98\n",
      "Enter Marks of English: 98\n",
      "Total Marks is:  481.0\n",
      "Your Percentage is:  96.2 % \n",
      "Your Grade is: A*\n"
     ]
    }
   ],
   "source": [
    "#Q1 Write a program which takes 5 inputs from user for different subject’s marks, total it and generate mark sheet using grades ?\n",
    "\n",
    "sub1 = float(input(\"Enter Marks of Maths: \"))\n",
    "sub2 = float(input(\"Enter Marks of Computer: \"))\n",
    "sub3 = float(input(\"Enter Marks of Physics: \"))\n",
    "sub4 = float(input(\"Enter Marks of Chemistry: \"))\n",
    "sub5 = float(input(\"Enter Marks of English: \"))\n",
    "\n",
    "tot_marks = sub1+sub2+sub3+sub4+sub5\n",
    "print(\"Total Marks is: \",tot_marks)\n",
    "per = (sub1+sub2+sub3+sub4+sub5)*100/500\n",
    "\n",
    "if per >=90 and per <= 100:\n",
    "    print(\"Your Percentage is: \",per,\"% \\nYour Grade is: A*\")\n",
    "elif per >=80 and per < 90:\n",
    "    print(\"Your Percentage is: \",per,\"% \\nYour Grade is: A+\")\n",
    "elif per >=70 and per < 80:\n",
    "    print(\"Your Percentage is: \",per,\"% \\nYour Grade is: A\")\n",
    "elif per >=60 and per < 70:\n",
    "    print(\"Your Percentage is: \",per,\"% \\nYour Grade is: B\")\n",
    "elif per >=50 and per < 60:\n",
    "    print(\"Your Percentage is: \",per,\"% \\nYour Grade is: C\")\n",
    "elif per >=40 and per < 50:\n",
    "    print(\"Your Percentage is: \",per,\"% \\nYour Grade is: D\")\n",
    "elif per >=33 and per < 40:\n",
    "    print(\"Your Percentage is: \",per,\"% \\nYour Grade is: E\")\n",
    "elif per >=0 and per < 33:\n",
    "    print(\"Your Percentage is: \",per,\"% \\nYou Failed\")\n",
    "else:\n",
    "    print(\"You Given inapproperiate Marks\")"
   ]
  },
  {
   "cell_type": "code",
   "execution_count": 6,
   "metadata": {},
   "outputs": [
    {
     "name": "stdout",
     "output_type": "stream",
     "text": [
      "ENTER ANY NUMBER: 8\n",
      "This is an even number.\n"
     ]
    }
   ],
   "source": [
    "#Q2: Write a program which take input from user and identify that the given number is even or odd?\n",
    "\n",
    "num = int(input(\"ENTER ANY NUMBER: \"))\n",
    "mod = num % 2\n",
    "if mod > 0:\n",
    "    print(\"This is an odd number.\")\n",
    "else:\n",
    "    print(\"This is an even number.\")\n"
   ]
  },
  {
   "cell_type": "code",
   "execution_count": 9,
   "metadata": {},
   "outputs": [
    {
     "name": "stdout",
     "output_type": "stream",
     "text": [
      "4\n"
     ]
    }
   ],
   "source": [
    "#Q3 . Write a program which print the length of the list?\n",
    "\n",
    "list = [\"one\", \"two\", \"three\", \"four\"]\n",
    "print(len(list))"
   ]
  },
  {
   "cell_type": "code",
   "execution_count": 10,
   "metadata": {},
   "outputs": [
    {
     "name": "stdout",
     "output_type": "stream",
     "text": [
      "45\n"
     ]
    }
   ],
   "source": [
    "#Q4  Write a Python program to sum all the numeric items in a list?\n",
    "\n",
    "list = [1,2,3,4,5,6,7,8,9]\n",
    "print(sum(list))"
   ]
  },
  {
   "cell_type": "code",
   "execution_count": 13,
   "metadata": {},
   "outputs": [
    {
     "name": "stdout",
     "output_type": "stream",
     "text": [
      "98\n"
     ]
    }
   ],
   "source": [
    "#Q5 Write a Python program to get the largest number from a numeric list.\n",
    "\n",
    "list = [45,65,56,84,98,50,]\n",
    "print(max(list))"
   ]
  },
  {
   "cell_type": "code",
   "execution_count": 24,
   "metadata": {},
   "outputs": [
    {
     "name": "stdout",
     "output_type": "stream",
     "text": [
      "[1, 1, 2, 3]\n"
     ]
    }
   ],
   "source": [
    "#Q6. Take a list, say for example this one:\n",
    "# a = [1, 1, 2, 3, 5, 8, 13, 21, 34, 55, 89]\n",
    "# and write a program that prints out all the elements of the list that are less than 5.\n",
    "\n",
    "a = [1, 1, 2, 3, 5, 8, 13, 21, 34, 55, 89]\n",
    "list = []\n",
    "\n",
    "for item in a:\n",
    "  \n",
    "    if item < 5:\n",
    "    \n",
    "        list.append(item)\n",
    "print(list)"
   ]
  },
  {
   "cell_type": "code",
   "execution_count": null,
   "metadata": {},
   "outputs": [],
   "source": []
  },
  {
   "cell_type": "code",
   "execution_count": null,
   "metadata": {},
   "outputs": [],
   "source": []
  }
 ],
 "metadata": {
  "kernelspec": {
   "display_name": "Python 3",
   "language": "python",
   "name": "python3"
  },
  "language_info": {
   "codemirror_mode": {
    "name": "ipython",
    "version": 3
   },
   "file_extension": ".py",
   "mimetype": "text/x-python",
   "name": "python",
   "nbconvert_exporter": "python",
   "pygments_lexer": "ipython3",
   "version": "3.7.4"
  }
 },
 "nbformat": 4,
 "nbformat_minor": 2
}
