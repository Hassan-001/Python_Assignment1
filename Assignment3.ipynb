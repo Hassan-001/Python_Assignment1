{
 "cells": [
  {
   "cell_type": "code",
   "execution_count": 8,
   "metadata": {},
   "outputs": [
    {
     "name": "stdout",
     "output_type": "stream",
     "text": [
      "Enter value: 8\n",
      "Enter Operator: +\n",
      "Enter value: 8\n",
      "8 + 8  =  16\n"
     ]
    }
   ],
   "source": [
    "#Q1: Make a calculator using Python with addition , subtraction , multiplication , division and power?\n",
    "\n",
    "value1 = int(input(\"Enter value: \"))\n",
    "operator = input(\"Enter Operator: \")\n",
    "value2 = int(input(\"Enter value: \"))\n",
    "\n",
    "if operator == '+':\n",
    "    result = value1 + value2\n",
    "    print(value1, operator , value2,\" = \", result)\n",
    "elif operator == '-':\n",
    "    result = value1 - value2\n",
    "    print(value1, operator ,value2,\" = \", result)\n",
    "elif operator == '*':\n",
    "    result = value1 * value2\n",
    "    print(value1, operator ,value2,\" = \", result)\n",
    "elif operator == '/':\n",
    "    result = value1 / value2\n",
    "    print(value1, operator ,value2,\" = \", result)\n",
    "elif operator == '**':\n",
    "    result = value1 ** value2\n",
    "    print(value1,\" Power is \",value2, \" = \", result)"
   ]
  },
  {
   "cell_type": "code",
   "execution_count": 13,
   "metadata": {},
   "outputs": [
    {
     "name": "stdout",
     "output_type": "stream",
     "text": [
      "numeric Value in List 10\n",
      "numeric Value in List 10.5\n",
      "numeric Value in List 20\n",
      "numeric Value in List 30\n"
     ]
    }
   ],
   "source": [
    "#Q2: Write a program to check if there is any numeric value in list using for loop?\n",
    "\n",
    "arr = ['Muhammad','Hassan',10,True,10.5,20,30,'a','b']\n",
    "for i in arr:\n",
    "    if type(i) == int:\n",
    "        print(\"numeric Value in List\",i)\n",
    "    elif type(i) == float:\n",
    "        print(\"numeric Value in List\",i)"
   ]
  },
  {
   "cell_type": "code",
   "execution_count": 21,
   "metadata": {},
   "outputs": [
    {
     "name": "stdout",
     "output_type": "stream",
     "text": [
      "Enter Key1\n",
      "Enter ValueABCD\n",
      "{'1': 'ABCD'}\n"
     ]
    }
   ],
   "source": [
    "#Q3: Write a Python script to add a key to a dictionary?\n",
    "\n",
    "dictionary = {}\n",
    "key = input(\"Enter Key\")\n",
    "value = input(\"Enter Value\")\n",
    "dictionary.update({key:value})\n",
    "\n",
    "print(dictionary)"
   ]
  },
  {
   "cell_type": "code",
   "execution_count": 25,
   "metadata": {},
   "outputs": [
    {
     "name": "stdout",
     "output_type": "stream",
     "text": [
      "Sum of all numeric items in dictionary is:  70\n"
     ]
    }
   ],
   "source": [
    "#Q4: Write a Python program to sum all the numeric items in a dictionary?\n",
    "\n",
    "dic = {\n",
    "    'num1' : 10,\n",
    "    'num2' : 12,\n",
    "    'num3' : 13,\n",
    "    'string':'Hassan',\n",
    "    'num4' : 15,\n",
    "    'num5':20,\n",
    "    'char':'h',\n",
    "}\n",
    "\n",
    "sum = 0\n",
    "\n",
    "for i in dic.values():\n",
    "    if type(i) == int:\n",
    "        sum +=i\n",
    "\n",
    "print(\"Sum of all numeric items in dictionary is: \" , sum)"
   ]
  },
  {
   "cell_type": "code",
   "execution_count": 31,
   "metadata": {},
   "outputs": [
    {
     "name": "stdout",
     "output_type": "stream",
     "text": [
      "[10, 30, 20]\n"
     ]
    }
   ],
   "source": [
    "#Q5: Write a program to identify duplicate values from list?\n",
    "\n",
    "list = [ 10,50,40,30,10,20,30,80,90,110,100,20]\n",
    "dup = []\n",
    "uniq = {}\n",
    "for x in list:\n",
    "   if x not in uniq:\n",
    "      uniq[x] = 1\n",
    "   else:\n",
    "      if uniq[x] == 1:\n",
    "         dup.append(x)\n",
    "      uniq[x] += 1\n",
    "print(dup)"
   ]
  },
  {
   "cell_type": "code",
   "execution_count": 38,
   "metadata": {},
   "outputs": [
    {
     "name": "stdout",
     "output_type": "stream",
     "text": [
      "Enter key to check in dictionary: num1\n",
      "Key is present in the dictionary\n"
     ]
    }
   ],
   "source": [
    "#Q6: Write a Python script to check if a given key already exists in a dictionary?\n",
    "\n",
    "d = {'num1': 10, 'num2': 20, 'num3': 30, 'num4': 40, 'num5': 50, 'num6': 60}\n",
    "check = input(\"Enter key to check in dictionary: \")\n",
    "\n",
    "flag= False\n",
    "for i in dic.keys():\n",
    "    if i == check:\n",
    "        flag = True\n",
    "        break\n",
    "\n",
    "if flag:\n",
    "      print('Key is present in the dictionary')\n",
    "else:\n",
    "      print('Key is not present in the dictionary')"
   ]
  },
  {
   "cell_type": "code",
   "execution_count": null,
   "metadata": {},
   "outputs": [],
   "source": []
  }
 ],
 "metadata": {
  "kernelspec": {
   "display_name": "Python 3",
   "language": "python",
   "name": "python3"
  },
  "language_info": {
   "codemirror_mode": {
    "name": "ipython",
    "version": 3
   },
   "file_extension": ".py",
   "mimetype": "text/x-python",
   "name": "python",
   "nbconvert_exporter": "python",
   "pygments_lexer": "ipython3",
   "version": "3.7.4"
  }
 },
 "nbformat": 4,
 "nbformat_minor": 2
}
