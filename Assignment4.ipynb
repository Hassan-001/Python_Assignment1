{
 "cells": [
  {
   "cell_type": "code",
   "execution_count": 9,
   "metadata": {},
   "outputs": [
    {
     "name": "stdout",
     "output_type": "stream",
     "text": [
      "Muhammad\n",
      "Hassan\n",
      "21\n",
      "Karachi\n",
      "Intermediate\n",
      "fter update Qualification  BSC\n",
      "{'first_name': 'Muhammad', 'last_name,': 'Hassan', 'age': '21', 'city': 'Karachi'}\n"
     ]
    }
   ],
   "source": [
    "obj = {\n",
    "    \"first_name\" : \"Muhammad\",\n",
    "    \"last_name,\" : \"Hassan\",\n",
    "    \"age\":\"21\",\n",
    "    \"city\" : \"Karachi\"\n",
    "}\n",
    "\n",
    "for i in obj.values():\n",
    "    print(i)\n",
    "\n",
    "obj.update({\"qualification\":\"Intermediate\"})\n",
    "\n",
    "print(obj[\"qualification\"])\n",
    "\n",
    "obj[\"qualification\"] = \"BSC\"\n",
    "print(\"fter update Qualification \",obj[\"qualification\"])\n",
    "\n",
    "del obj[\"qualification\"]\n",
    "\n",
    "print(obj)"
   ]
  },
  {
   "cell_type": "code",
   "execution_count": 16,
   "metadata": {},
   "outputs": [
    {
     "name": "stdout",
     "output_type": "stream",
     "text": [
      "Name of city is : Islamabad\n",
      "Country Name is :  Pakistan\n",
      "Approximate population is :  IS 1,095,064 peoples in year 2019\n",
      "Fact of the city is :  Islamabad is the 9th largest city in Pakistan, while the larger Islamabad-Rawalpindi metropolitan area is the country's third largest with a population exceeding four million.\n",
      "===================================================================================================================\n",
      "Name of city is : Ankara\n",
      "Country Name is :  Turkey\n",
      "Approximate population is :  5,150,072 peoples in year 2019 approx\n",
      "Fact of the city is :  Ankara, formerly known as Angora, city, capital of Turkey, situated in the northwestern part of the country. It lies about 125 miles (200 km) south of the Black Sea\n",
      "===================================================================================================================\n",
      "Name of city is : Baghdad\n",
      "Country Name is :  Iraq\n",
      "Approximate population is :  39,309,783 peoples approx\n",
      "Fact of the city is :  Baghdad, also spelled Bagdad, Arabic Baghdād, formerly Madīnat al-Salām (Arabic: “City of Peace”), city, capital of Iraq and capital of Baghdad governorate, central Iraq. Its location, on the Tigris River about 330 miles (530 km) from the headwaters of the Persian Gulf.\n",
      "===================================================================================================================\n"
     ]
    }
   ],
   "source": [
    "#Q2:\n",
    "\n",
    "city ={\n",
    "    \"Islamabad\" : {\n",
    "        \"country\": \"Pakistan\",\n",
    "        \"approximate_population\":\"IS 1,095,064 peoples in year 2019\",\n",
    "        \"fact\":\"Islamabad is the 9th largest city in Pakistan, while the larger Islamabad-Rawalpindi metropolitan area is the country's third largest with a population exceeding four million.\"\n",
    "    },\n",
    "    \"Ankara\" : {\n",
    "        \"country\": \"Turkey\",\n",
    "        \"approximate_population\":\"5,150,072 peoples in year 2019 approx\",\n",
    "        \"fact\":\"Ankara, formerly known as Angora, city, capital of Turkey, situated in the northwestern part of the country. It lies about 125 miles (200 km) south of the Black Sea\"\n",
    "    },\n",
    "    \"Baghdad\" : {\n",
    "        \"country\": \"Iraq\",\n",
    "        \"approximate_population\":\"39,309,783 peoples approx\",\n",
    "        \"fact\":\"Baghdad, also spelled Bagdad, Arabic Baghdād, formerly Madīnat al-Salām (Arabic: “City of Peace”), city, capital of Iraq and capital of Baghdad governorate, central Iraq. Its location, on the Tigris River about 330 miles (530 km) from the headwaters of the Persian Gulf.\"\n",
    "    }\n",
    "}\n",
    "    \n",
    "for i in city.keys():\n",
    "    print(\"Name of city is :\", i)\n",
    "    print(\"Country Name is : \" , city[i][\"country\"])\n",
    "    print(\"Approximate population is : \" , city[i][\"approximate_population\"])\n",
    "    print(\"Fact of the city is : \" , city[i][\"fact\"])\n",
    "    print(\"===================================================================================================================\")"
   ]
  },
  {
   "cell_type": "code",
   "execution_count": 11,
   "metadata": {},
   "outputs": [
    {
     "name": "stdout",
     "output_type": "stream",
     "text": [
      "Welcome To Movie Theater\n",
      "Enter the number of Persons : 4\n",
      "Enter The Age Of Person: 3\n",
      "Your Ticket is Free! Enjoy Your Movie\n",
      "Enter The Age Of Person: 8\n",
      "Your Ticket price will be 10$\n",
      "Enter The Age Of Person: 25\n",
      "Your Ticket price will be 15$\n",
      "Enter The Age Of Person: 24\n",
      "Your Ticket price will be 15$\n",
      "Total Amount =  40  $ Enjoy Your Movie\n"
     ]
    }
   ],
   "source": [
    "#Q3:\n",
    "\n",
    "print(\"Welcome To Movie Theater\")\n",
    "persons = int(input(\"Enter the number of Persons : \"))\n",
    "\n",
    "total_price = 0\n",
    "\n",
    "for i in range(1,persons+1):\n",
    "    age = int(input(\"Enter The Age Of Person: \"))\n",
    "    if age <= 3:\n",
    "        print(\"Your Ticket is Free! Enjoy Your Movie\")\n",
    "    elif age <= 12:\n",
    "        print(\"Your Ticket price will be 10$\")\n",
    "        total_price +=10\n",
    "    else:\n",
    "        print(\"Your Ticket price will be 15$\")\n",
    "        total_price +=15\n",
    "\n",
    "print(\"Total Amount = \",total_price,\" $ Enjoy Your Movie\")"
   ]
  },
  {
   "cell_type": "code",
   "execution_count": 12,
   "metadata": {},
   "outputs": [
    {
     "name": "stdout",
     "output_type": "stream",
     "text": [
      "Enter The Book Title: The hound of baskervilles.\n",
      "One of my favorite books is  The hound of baskervilles.\n"
     ]
    }
   ],
   "source": [
    "#Q4:\n",
    "\n",
    "def favorite_book(book_name):\n",
    "    print(\"One of my favorite books is \",book_name)\n",
    "    \n",
    "title=input(\"Enter The Book Title: \")\n",
    "\n",
    "favorite_book(title)"
   ]
  },
  {
   "cell_type": "code",
   "execution_count": 14,
   "metadata": {},
   "outputs": [
    {
     "name": "stdout",
     "output_type": "stream",
     "text": [
      "Guess the number between 1 to 30 : 11\n",
      "Your guess is too high\n",
      "Guess the number between 1 to 30 : 15\n",
      "Your guess is too high\n",
      "Guess the number between 1 to 30 : 10\n",
      "Your guess is too high\n",
      "You Loose\n",
      "Correct Number is  9\n"
     ]
    }
   ],
   "source": [
    "#Q5:\n",
    "\n",
    "import random\n",
    "\n",
    "random_number = random.randrange(1,30)\n",
    "\n",
    "flag = False\n",
    "\n",
    "for i in range(1,4):\n",
    "    guess = int(input(\"Guess the number between 1 to 30 : \"))\n",
    "    if guess == random_number:\n",
    "        flag = True \n",
    "        break\n",
    "    elif guess < random_number:\n",
    "        print(\"Your guess is too low\")\n",
    "    else:\n",
    "        print(\"Your guess is too high\")\n",
    "        \n",
    "if flag:\n",
    "    print(\"Congratulation you Win!!\")\n",
    "else:\n",
    "    print(\"You Loose\")\n",
    "    print(\"Correct Number is \", random_number)"
   ]
  },
  {
   "cell_type": "code",
   "execution_count": null,
   "metadata": {},
   "outputs": [],
   "source": []
  },
  {
   "cell_type": "code",
   "execution_count": null,
   "metadata": {},
   "outputs": [],
   "source": []
  }
 ],
 "metadata": {
  "kernelspec": {
   "display_name": "Python 3",
   "language": "python",
   "name": "python3"
  },
  "language_info": {
   "codemirror_mode": {
    "name": "ipython",
    "version": 3
   },
   "file_extension": ".py",
   "mimetype": "text/x-python",
   "name": "python",
   "nbconvert_exporter": "python",
   "pygments_lexer": "ipython3",
   "version": "3.7.4"
  }
 },
 "nbformat": 4,
 "nbformat_minor": 2
}
